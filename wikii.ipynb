{
 "cells": [
  {
   "cell_type": "code",
   "execution_count": 3,
   "metadata": {},
   "outputs": [
    {
     "name": "stdout",
     "output_type": "stream",
     "text": [
      "\n",
      "----------------------------------------------------------------------WIKI----------------------------------------------------------------------\n",
      "Huh may refer to:\n",
      "\n"
     ]
    }
   ],
   "source": [
    "import urllib.request\n",
    "from bs4 import BeautifulSoup\n",
    "a = input(\"What would you like to search ? \")\n",
    "page = 'https://en.wikipedia.org/wiki/'+a\n",
    "fhand = urllib.request.urlopen(page).read()\n",
    "soup = BeautifulSoup(fhand,'html.parser')\n",
    "tags = soup.find_all('p')\n",
    "for tag in tags:\n",
    "    data = tag.text\n",
    "    if  \"Pages for logged out editors\" in data:\n",
    "      print('\\n----------------------------------------------------------------------WIKI----------------------------------------------------------------------'.center(0))\n",
    "      continue\n",
    "    print(data)"
   ]
  }
 ],
 "metadata": {
  "kernelspec": {
   "display_name": "Python 3",
   "language": "python",
   "name": "python3"
  },
  "language_info": {
   "codemirror_mode": {
    "name": "ipython",
    "version": 3
   },
   "file_extension": ".py",
   "mimetype": "text/x-python",
   "name": "python",
   "nbconvert_exporter": "python",
   "pygments_lexer": "ipython3",
   "version": "3.8.5"
  },
  "orig_nbformat": 4,
  "vscode": {
   "interpreter": {
    "hash": "74eff2cc306635ea51e16c5b7e4d8010eb7e5480a4c16f8960d556c1675a6b05"
   }
  }
 },
 "nbformat": 4,
 "nbformat_minor": 2
}
